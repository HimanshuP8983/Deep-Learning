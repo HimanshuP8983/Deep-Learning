{
  "nbformat": 4,
  "nbformat_minor": 0,
  "metadata": {
    "colab": {
      "name": "IMDB_NLP.ipynb",
      "provenance": [],
      "collapsed_sections": [],
      "authorship_tag": "ABX9TyNmWiaZVmtFG2XxvMaMZX/b",
      "include_colab_link": true
    },
    "kernelspec": {
      "name": "python3",
      "display_name": "Python 3"
    },
    "accelerator": "GPU"
  },
  "cells": [
    {
      "cell_type": "markdown",
      "metadata": {
        "id": "view-in-github",
        "colab_type": "text"
      },
      "source": [
        "<a href=\"https://colab.research.google.com/github/hprasad99/Deep-Learning/blob/master/IMDB_NLP.ipynb\" target=\"_parent\"><img src=\"https://colab.research.google.com/assets/colab-badge.svg\" alt=\"Open In Colab\"/></a>"
      ]
    },
    {
      "cell_type": "markdown",
      "metadata": {
        "id": "sxXRly3Y71mQ",
        "colab_type": "text"
      },
      "source": [
        "**IMDB**"
      ]
    },
    {
      "cell_type": "code",
      "metadata": {
        "id": "pdI3rJl378dO",
        "colab_type": "code",
        "colab": {}
      },
      "source": [
        "%reload_ext autoreload\n",
        "%autoreload 2\n",
        "%matplotlib inline"
      ],
      "execution_count": 6,
      "outputs": []
    },
    {
      "cell_type": "code",
      "metadata": {
        "id": "G-wqIF438CcH",
        "colab_type": "code",
        "colab": {}
      },
      "source": [
        "from fastai.text import *"
      ],
      "execution_count": 7,
      "outputs": []
    },
    {
      "cell_type": "markdown",
      "metadata": {
        "id": "W6l1-53t8NA7",
        "colab_type": "text"
      },
      "source": [
        "**Preparing the data**"
      ]
    },
    {
      "cell_type": "markdown",
      "metadata": {
        "id": "s_yTdFSX8TyH",
        "colab_type": "text"
      },
      "source": [
        "The [dataset](http://ai.stanford.edu/~amaas/data/sentiment/) has been curated by Andrew Maas et al. and contains a total of 1,00,000 reviews on IMDB. 25,000 of them are labelled as positive and negative for training, another 25,000 are labelled for testing (in both cases they are highly polarized). The remaining 50,000 is an additional unlabelled data.\n",
        "\n",
        "We are considering sample data before going over the full dataset"
      ]
    },
    {
      "cell_type": "code",
      "metadata": {
        "id": "v3ueBqRp8MdY",
        "colab_type": "code",
        "colab": {
          "base_uri": "https://localhost:8080/",
          "height": 50
        },
        "outputId": "00ffd6cc-d06b-49d0-a728-d37986f86e34"
      },
      "source": [
        "path = untar_data(URLs.IMDB_SAMPLE)\n",
        "path.ls()"
      ],
      "execution_count": 8,
      "outputs": [
        {
          "output_type": "stream",
          "text": [
            "Downloading http://files.fast.ai/data/examples/imdb_sample.tgz\n"
          ],
          "name": "stdout"
        },
        {
          "output_type": "display_data",
          "data": {
            "text/html": [
              ""
            ],
            "text/plain": [
              "<IPython.core.display.HTML object>"
            ]
          },
          "metadata": {
            "tags": []
          }
        },
        {
          "output_type": "execute_result",
          "data": {
            "text/plain": [
              "[PosixPath('/root/.fastai/data/imdb_sample/texts.csv')]"
            ]
          },
          "metadata": {
            "tags": []
          },
          "execution_count": 8
        }
      ]
    },
    {
      "cell_type": "code",
      "metadata": {
        "id": "ASdhj3mq8JsB",
        "colab_type": "code",
        "colab": {}
      },
      "source": [
        "df = pd.read_csv(path/'texts.csv')"
      ],
      "execution_count": 9,
      "outputs": []
    },
    {
      "cell_type": "code",
      "metadata": {
        "id": "Xwqlaw6Q96of",
        "colab_type": "code",
        "colab": {
          "base_uri": "https://localhost:8080/",
          "height": 402
        },
        "outputId": "a2f5c967-ff72-429d-eead-a04ab62f1e54"
      },
      "source": [
        "df"
      ],
      "execution_count": 10,
      "outputs": [
        {
          "output_type": "execute_result",
          "data": {
            "text/html": [
              "<div>\n",
              "<style scoped>\n",
              "    .dataframe tbody tr th:only-of-type {\n",
              "        vertical-align: middle;\n",
              "    }\n",
              "\n",
              "    .dataframe tbody tr th {\n",
              "        vertical-align: top;\n",
              "    }\n",
              "\n",
              "    .dataframe thead th {\n",
              "        text-align: right;\n",
              "    }\n",
              "</style>\n",
              "<table border=\"1\" class=\"dataframe\">\n",
              "  <thead>\n",
              "    <tr style=\"text-align: right;\">\n",
              "      <th></th>\n",
              "      <th>label</th>\n",
              "      <th>text</th>\n",
              "      <th>is_valid</th>\n",
              "    </tr>\n",
              "  </thead>\n",
              "  <tbody>\n",
              "    <tr>\n",
              "      <th>0</th>\n",
              "      <td>negative</td>\n",
              "      <td>Un-bleeping-believable! Meg Ryan doesn't even ...</td>\n",
              "      <td>False</td>\n",
              "    </tr>\n",
              "    <tr>\n",
              "      <th>1</th>\n",
              "      <td>positive</td>\n",
              "      <td>This is a extremely well-made film. The acting...</td>\n",
              "      <td>False</td>\n",
              "    </tr>\n",
              "    <tr>\n",
              "      <th>2</th>\n",
              "      <td>negative</td>\n",
              "      <td>Every once in a long while a movie will come a...</td>\n",
              "      <td>False</td>\n",
              "    </tr>\n",
              "    <tr>\n",
              "      <th>3</th>\n",
              "      <td>positive</td>\n",
              "      <td>Name just says it all. I watched this movie wi...</td>\n",
              "      <td>False</td>\n",
              "    </tr>\n",
              "    <tr>\n",
              "      <th>4</th>\n",
              "      <td>negative</td>\n",
              "      <td>This movie succeeds at being one of the most u...</td>\n",
              "      <td>False</td>\n",
              "    </tr>\n",
              "    <tr>\n",
              "      <th>...</th>\n",
              "      <td>...</td>\n",
              "      <td>...</td>\n",
              "      <td>...</td>\n",
              "    </tr>\n",
              "    <tr>\n",
              "      <th>995</th>\n",
              "      <td>negative</td>\n",
              "      <td>There are many different versions of this one ...</td>\n",
              "      <td>True</td>\n",
              "    </tr>\n",
              "    <tr>\n",
              "      <th>996</th>\n",
              "      <td>positive</td>\n",
              "      <td>Once upon a time Hollywood produced live-actio...</td>\n",
              "      <td>True</td>\n",
              "    </tr>\n",
              "    <tr>\n",
              "      <th>997</th>\n",
              "      <td>negative</td>\n",
              "      <td>Wenders was great with Million $ Hotel.I don't...</td>\n",
              "      <td>True</td>\n",
              "    </tr>\n",
              "    <tr>\n",
              "      <th>998</th>\n",
              "      <td>negative</td>\n",
              "      <td>Although a film with Bruce Willis is always wo...</td>\n",
              "      <td>True</td>\n",
              "    </tr>\n",
              "    <tr>\n",
              "      <th>999</th>\n",
              "      <td>positive</td>\n",
              "      <td>A compelling, honest, daring, and unforgettabl...</td>\n",
              "      <td>True</td>\n",
              "    </tr>\n",
              "  </tbody>\n",
              "</table>\n",
              "<p>1000 rows × 3 columns</p>\n",
              "</div>"
            ],
            "text/plain": [
              "        label                                               text  is_valid\n",
              "0    negative  Un-bleeping-believable! Meg Ryan doesn't even ...     False\n",
              "1    positive  This is a extremely well-made film. The acting...     False\n",
              "2    negative  Every once in a long while a movie will come a...     False\n",
              "3    positive  Name just says it all. I watched this movie wi...     False\n",
              "4    negative  This movie succeeds at being one of the most u...     False\n",
              "..        ...                                                ...       ...\n",
              "995  negative  There are many different versions of this one ...      True\n",
              "996  positive  Once upon a time Hollywood produced live-actio...      True\n",
              "997  negative  Wenders was great with Million $ Hotel.I don't...      True\n",
              "998  negative  Although a film with Bruce Willis is always wo...      True\n",
              "999  positive  A compelling, honest, daring, and unforgettabl...      True\n",
              "\n",
              "[1000 rows x 3 columns]"
            ]
          },
          "metadata": {
            "tags": []
          },
          "execution_count": 10
        }
      ]
    },
    {
      "cell_type": "code",
      "metadata": {
        "id": "Ep4CpypO97MG",
        "colab_type": "code",
        "colab": {
          "base_uri": "https://localhost:8080/",
          "height": 120
        },
        "outputId": "df6887e7-5608-445b-bee4-f18b6ccabae2"
      },
      "source": [
        "df['text'][1]"
      ],
      "execution_count": 11,
      "outputs": [
        {
          "output_type": "execute_result",
          "data": {
            "application/vnd.google.colaboratory.intrinsic+json": {
              "type": "string"
            },
            "text/plain": [
              "'This is a extremely well-made film. The acting, script and camera-work are all first-rate. The music is good, too, though it is mostly early in the film, when things are still relatively cheery. There are no really superstars in the cast, though several faces will be familiar. The entire cast does an excellent job with the script.<br /><br />But it is hard to watch, because there is no good end to a situation like the one presented. It is now fashionable to blame the British for setting Hindus and Muslims against each other, and then cruelly separating them into two countries. There is some merit in this view, but it\\'s also true that no one forced Hindus and Muslims in the region to mistreat each other as they did around the time of partition. It seems more likely that the British simply saw the tensions between the religions and were clever enough to exploit them to their own ends.<br /><br />The result is that there is much cruelty and inhumanity in the situation and this is very unpleasant to remember and to see on the screen. But it is never painted as a black-and-white case. There is baseness and nobility on both sides, and also the hope for change in the younger generation.<br /><br />There is redemption of a sort, in the end, when Puro has to make a hard choice between a man who has ruined her life, but also truly loved her, and her family which has disowned her, then later come looking for her. But by that point, she has no option that is without great pain for her.<br /><br />This film carries the message that both Muslims and Hindus have their grave faults, and also that both can be dignified and caring people. The reality of partition makes that realisation all the more wrenching, since there can never be real reconciliation across the India/Pakistan border. In that sense, it is similar to \"Mr & Mrs Iyer\".<br /><br />In the end, we were glad to have seen the film, even though the resolution was heartbreaking. If the UK and US could deal with their own histories of racism with this kind of frankness, they would certainly be better off.'"
            ]
          },
          "metadata": {
            "tags": []
          },
          "execution_count": 11
        }
      ]
    },
    {
      "cell_type": "code",
      "metadata": {
        "id": "WDvmZs0O_VFU",
        "colab_type": "code",
        "colab": {
          "base_uri": "https://localhost:8080/",
          "height": 268
        },
        "outputId": "f8b99c47-428b-4d92-db3b-6071821b1899"
      },
      "source": [
        "doc(TextDataBunch.from_csv)"
      ],
      "execution_count": 12,
      "outputs": [
        {
          "output_type": "display_data",
          "data": {
            "text/html": [
              "<h4 id=\"TextDataBunch.from_csv\" class=\"doc_header\"><code>from_csv</code><a href=\"https://github.com/fastai/fastai/blob/master/fastai/text/data.py#L209\" class=\"source_link\" style=\"float:right\">[source]</a><a class=\"source_link\" data-toggle=\"collapse\" data-target=\"#TextDataBunch-from_csv-pytest\" style=\"float:right; padding-right:10px\">[test]</a></h4><blockquote><p><code>from_csv</code>(<strong><code>path</code></strong>:<code>PathOrStr</code>, <strong><code>csv_name</code></strong>, <strong><code>valid_pct</code></strong>:<code>float</code>=<strong><em><code>0.2</code></em></strong>, <strong><code>test</code></strong>:<code>Optional</code>[<code>str</code>]=<strong><em><code>None</code></em></strong>, <strong><code>tokenizer</code></strong>:<a href=\"https://docs.fast.ai/text.transform.html#Tokenizer\"><code>Tokenizer</code></a>=<strong><em><code>None</code></em></strong>, <strong><code>vocab</code></strong>:<a href=\"https://docs.fast.ai/text.transform.html#Vocab\"><code>Vocab</code></a>=<strong><em><code>None</code></em></strong>, <strong><code>classes</code></strong>:<code>StrList</code>=<strong><em><code>None</code></em></strong>, <strong><code>delimiter</code></strong>:<code>str</code>=<strong><em><code>None</code></em></strong>, <strong><code>header</code></strong>=<strong><em><code>'infer'</code></em></strong>, <strong><code>text_cols</code></strong>:<code>IntsOrStrs</code>=<strong><em><code>1</code></em></strong>, <strong><code>label_cols</code></strong>:<code>IntsOrStrs</code>=<strong><em><code>0</code></em></strong>, <strong><code>label_delim</code></strong>:<code>str</code>=<strong><em><code>None</code></em></strong>, <strong><code>chunksize</code></strong>:<code>int</code>=<strong><em><code>10000</code></em></strong>, <strong><code>max_vocab</code></strong>:<code>int</code>=<strong><em><code>60000</code></em></strong>, <strong><code>min_freq</code></strong>:<code>int</code>=<strong><em><code>2</code></em></strong>, <strong><code>mark_fields</code></strong>:<code>bool</code>=<strong><em><code>False</code></em></strong>, <strong><code>include_bos</code></strong>:<code>bool</code>=<strong><em><code>True</code></em></strong>, <strong><code>include_eos</code></strong>:<code>bool</code>=<strong><em><code>False</code></em></strong>, <strong>**<code>kwargs</code></strong>) → <a href=\"https://docs.fast.ai/basic_data.html#DataBunch\"><code>DataBunch</code></a></p>\n",
              "</blockquote>\n",
              "<div class=\"collapse\" id=\"TextDataBunch-from_csv-pytest\"><div class=\"card card-body pytest_card\"><a type=\"button\" data-toggle=\"collapse\" data-target=\"#TextDataBunch-from_csv-pytest\" class=\"close\" aria-label=\"Close\"><span aria-hidden=\"true\">&times;</span></a><p>Tests found for <code>from_csv</code>:</p><ul><li><code>pytest -sv tests/test_text_data.py::test_from_csv_and_from_df</code> <a href=\"https://github.com/fastai/fastai/blob/master/tests/test_text_data.py#L57\" class=\"source_link\" style=\"float:right\">[source]</a></li></ul><p>To run tests please refer to this <a href=\"/dev/test.html#quick-guide\">guide</a>.</p></div></div><p>Create a <a href=\"https://docs.fast.ai/text.data.html#TextDataBunch\"><code>TextDataBunch</code></a> from texts in csv files. <code>kwargs</code> are passed to the dataloader creation.</p>\n",
              "<p><a href=\"https://docs.fast.ai/text.data.html#TextDataBunch.from_csv\" target=\"_blank\" rel=\"noreferrer noopener\">Show in docs</a></p>\n"
            ],
            "text/plain": [
              "<IPython.core.display.HTML object>"
            ]
          },
          "metadata": {
            "tags": []
          }
        }
      ]
    },
    {
      "cell_type": "code",
      "metadata": {
        "id": "cPodVGmI-QRf",
        "colab_type": "code",
        "colab": {
          "base_uri": "https://localhost:8080/",
          "height": 17
        },
        "outputId": "a5c48777-e124-4412-da9b-560a3244ede2"
      },
      "source": [
        "data_lm = TextDataBunch.from_csv(path,'texts.csv')"
      ],
      "execution_count": 13,
      "outputs": [
        {
          "output_type": "display_data",
          "data": {
            "text/html": [
              ""
            ],
            "text/plain": [
              "<IPython.core.display.HTML object>"
            ]
          },
          "metadata": {
            "tags": []
          }
        },
        {
          "output_type": "display_data",
          "data": {
            "text/html": [
              ""
            ],
            "text/plain": [
              "<IPython.core.display.HTML object>"
            ]
          },
          "metadata": {
            "tags": []
          }
        }
      ]
    },
    {
      "cell_type": "markdown",
      "metadata": {
        "id": "AawuaXYf_bU4",
        "colab_type": "text"
      },
      "source": [
        "By executing above line a process was launched. Images can be fed (almost)directly into a model because they are just pixel values that are floats between 0 and 1. A text is composed of words, and we can't apply mathematical functions to them directly. We first have to convert them to numbers. This is done in two different steps: tokenization and numericalization. TextDataBunch does all of that."
      ]
    },
    {
      "cell_type": "code",
      "metadata": {
        "id": "H2oz_-nH_MEw",
        "colab_type": "code",
        "colab": {}
      },
      "source": [
        "data_lm.save()"
      ],
      "execution_count": 14,
      "outputs": []
    },
    {
      "cell_type": "markdown",
      "metadata": {
        "id": "XfeU7r-RAg_V",
        "colab_type": "text"
      },
      "source": [
        "Next time we launch this notebook, we can skip the cell above that took a bit of time (and that will take a lot more when you get to the full dataset) and load those results like this:"
      ]
    },
    {
      "cell_type": "code",
      "metadata": {
        "id": "4MgP-jJrAdDF",
        "colab_type": "code",
        "colab": {}
      },
      "source": [
        "data = load_data(path)"
      ],
      "execution_count": 15,
      "outputs": []
    },
    {
      "cell_type": "code",
      "metadata": {
        "id": "zBobSnM2A1Nr",
        "colab_type": "code",
        "colab": {
          "base_uri": "https://localhost:8080/",
          "height": 826
        },
        "outputId": "acdae636-cedd-4a74-9766-908407129bc9"
      },
      "source": [
        "data"
      ],
      "execution_count": 16,
      "outputs": [
        {
          "output_type": "execute_result",
          "data": {
            "text/plain": [
              "TextClasDataBunch;\n",
              "\n",
              "Train: LabelList (799 items)\n",
              "x: TextList\n",
              "xxbos xxmaj this was a great movie that had a lot of under lying issues . xxmaj it dealt with issues of xxunk and class . xxmaj but , it also had a message of knowing yourself and taking responsibility for yourself . xxmaj this movie was very deep it gave the message of that you and only you can control your destiny . xxmaj it also showed that knowing yourself and being comfortable with who you are is the only way you will ever fit into society . xxmaj what others think of you is not important . i believe this movie did a wonderful job of showing it . xxmaj the actors i think were able to convey each character wonderfully . i just thought it was amazing how deep this movie really was . xxmaj at a just xxunk look you would n't see how deep the movie is , but on further look you see the xxunk meaning of the movie .,xxbos a xxmaj give this xxmaj movie a 10 / 10 because it deserves a 10 / 10 . xxmaj two of the best actors of their time - xxmaj walter xxmaj matthau & xxmaj george xxmaj burns xxunk with xxmaj neil xxmaj simon and all of the other actors that are in this film + director xxmaj herbert xxmaj ross , and all of that makes this stage adaption come true . xxmaj the xxmaj sunshine xxmaj boys is one of the best films of the 70 's . i love the type of humor in this film , it just makes me laugh so hard . \n",
              " \n",
              "  i got this movie on xxup vhs 3 days ago ( yes , xxup vhs because it was cheaper - only $ 3 ) . i watched it as soon as i got home , but i had to watch it again because i kept missing a few parts the first time . xxmaj the second time i watched it , it felt a lot better , and i laughed a lot harder . i 'm definitely going to re - get this on xxup dvd because i xxup have to see the special features . \n",
              " \n",
              "  xxmaj it 's very funny how that happens . xxmaj two people work together as entertainers / actors / performers . xxmaj they get along well on stage , but really argue off stage , they ca n't survive another minute with each other , then some 15 years later , you want to reunite them for a xxup tv special . xxmaj you can find that in this film . xxmaj matthau & xxmaj burns were terrific in this film . xxmaj it 's a damn shame they died . xxmaj george xxmaj burns deserved that xxmaj oscar . xxmaj he gave a strong comic performance . xxmaj he was also xxunk when this movie was filmed . xxmaj so far , he 's the oldest actor to receive an academy award at an old age . xxmaj jessica xxmaj xxunk breaks the record as the oldest actress . xxmaj richard xxmaj benjamin was also fantastic in this . xxmaj he won a xxmaj golden xxmaj globe for best supporting actor . xxmaj he deserved that xxmaj golden xxmaj globe . xxmaj although many people might disagree with what i am about to say , everybody in this film gave a strong performance . xxmaj this xxmaj comedy is an xxunk classic . i highly recommend it . xxmaj one more thing : xxmaj whoever hates this film is a \" xxmaj xxunk \",xxbos \" xxmaj foxes \" is a great film . xxmaj the four young actresses xxmaj xxunk xxmaj foster , xxmaj xxunk xxmaj xxunk , xxmaj marilyn xxmaj xxunk and xxmaj xxunk xxmaj xxunk are wonderful . xxmaj the song \" xxmaj on the radio \" by xxmaj donna xxmaj summer is lovely . a great film . xxrep 5 *,xxbos xxmaj so your xxunk are away on a sleep - over ? xxmaj the wife is visiting the mother in law ? xxmaj you though are at home . xxmaj it 's a dark and stormy night and there is no football on the telly and the xxunk needs stacking ? xxmaj so now what are you going to do ? \n",
              " \n",
              "  i will tell you ! \n",
              " \n",
              "  xxmaj go make an old fashioned xxunk ( xxmaj xxunk is xxunk hold of some ginger nuts and sit down in front of the xxup dvd . xxmaj now go xxunk and play xxmaj arthur xxmaj xxunk world war two thriller / horror xxmaj the xxmaj ghost xxmaj train , return to that comfortable xxunk and enjoy the night in ! \n",
              " \n",
              "  xxmaj the xxmaj ghost xxmaj train is a genuine xxmaj british war time classic ! xxmaj arthur xxmaj askey with his side kick , xxmaj stinker xxmaj xxunk , entertain you and i suspect the cast , to a high octane , thrills and xxunk , espionage thriller . xxmaj it 's set in old rural xxmaj england during the second world war . \n",
              " \n",
              "  xxmaj it xxunk around a motley group of people that need to stay xxunk , through circumstances outside any ones ' control , in an old railway waiting room that they discover is haunted by an old train . \n",
              " \n",
              "  xxmaj the plot unfolds neatly and precisely and is a credit to the entire cast it is humorous in parts and at times genuinely scary ! \n",
              " \n",
              "  ( xxmaj the tale was written by that old boy xxmaj xxunk of xxmaj xxunk xxmaj army fame and it is clever ) \n",
              " \n",
              "  xxmaj arthur xxmaj askey is entertaining and is very at home xxunk his routines to you and the cast , he also shows he can act a bit ! xxmaj the cast are never out staged though , even the railway porter and the parrot help give the film the necessary xxunk . \n",
              " \n",
              "  xxmaj oh and when it ends please remember to stack the dish xxunk !,xxbos ' xxmaj major xxmaj payne ' is a film about a major who makes life a living xxmaj hell for his small group of boys in the marines . xxmaj this film does not really have a lot to offer , but it provides several hilarious moments that are well - worth a watch . xxmaj do n't expect it to be a memorable film , however . xxmaj just expect to laugh your way through the film and at the expense of other people . xxmaj the confrontation between xxmaj major xxmaj payne and the xxunk boy were hilarious , and that 's really all i remember about the film except for the boys wanting revenge on xxmaj major xxmaj payne . xxmaj again , it is not a great film , and it is probably best watched on a rainy day when you need some laughter .\n",
              "y: CategoryList\n",
              "positive,positive,positive,positive,negative\n",
              "Path: /root/.fastai/data/imdb_sample;\n",
              "\n",
              "Valid: LabelList (201 items)\n",
              "x: TextList\n",
              "xxbos xxmaj xxunk xxmaj xxunk and xxmaj xxunk xxunk are terrific . i have seen xxmaj xxunk on xxmaj the xxmaj doors , however his interpretation of xxmaj john xxmaj holmes is superb . xxmaj nothing compared to xxmaj xxunk xxmaj xxunk which was kind of slow . xxmaj xxunk is a movie which is able to show you a horrible crime story from the perspective from a guy who is just xxunk in his drug xxunk and xxunk of what ever happens around . xxmaj at the same time , the xxmaj john xxmaj holmes character shows a very clever hustler who is able to pass through the xxunk and xxunk situations almost xxunk . xxmaj the movie deserves being watched more than once . xxmaj the seventies xxunk sensual and full of drugs is amazing .,xxbos xxmaj this movie raises a number of xxunk questions in my mind . xxmaj firstly , how has xxmaj xxunk xxmaj xxunk managed to xxunk a film acting career for all these years based on that ridiculous xxunk voice and the very limited range of xxunk facial expressions she xxunk ? xxmaj secondly ... what on earth were the people responsible for making this offensive and deeply xxunk film thinking of ? xxmaj and xxunk ... given that there were people xxunk enough to decide to make dreck like this , should n't there have been someone in the system - the studio , the distributors , or somewhere - xxunk enough to prevent it actually getting xxunk and released . xxmaj you really would have to search a very , very long way to turn up another movie as xxunk nasty as this ... and it is n't even billed as a horror movie - which , xxunk as it can be seen as belonging to any legitimate film genre , it certainly is . xxmaj the movie xxunk from beginning to end in the xxunk kind of madness , violence and abuse , and has essentially no redeeming features at all . i 'm not actually xxunk xxunk ( which i do n't believe in ) ... but i really ca n't see how anybody could xxunk draw anything positive from watching a film like this .,xxbos xxmaj xxunk the opening credits sequence is a xxunk man having a strange , all - too - real nightmare . xxmaj closing in on its xxunk xxunk xxmaj paris , the film begins to follow a woman into a xxunk club , where she and a xxmaj xxunk xxunk xxunk outside on the xxunk . xxmaj they xxunk xxunk at each other to the effect that she xxunk him more money although she believes she 's paid it all . xxmaj another woman xxunk the xxunk violence , only to have a bitter fight with the woman herself . xxmaj the initial woman xxunk out , and she is kidnapped . xxmaj christian xxmaj xxunk 's xxmaj renaissance appears to be another one in an assembly line of recent motion - capture - animated sci - fi noir pictures , but in spite of whether or not that is essentially true , it tells a neatly xxunk , xxunk xxunk detective story that keeps us in the dark in its opening minutes , even whilst xxunk xxmaj xxunk , the hard - xxunk cop we recognize from the beginning as the man xxunk from a terrible dream . \n",
              " \n",
              "  xxmaj the xxunk of classic film noir are all hit upon without any xxunk changes , for all xxunk and xxunk . xxmaj it is in the xxunk of its xxunk that xxmaj xxunk 's xxmaj french thriller has followed no example . xxmaj for the film 's xxunk , xxunk by the challenges of physical lighting that would normally be faced , have been able to begin with a totally black frame , and to xxunk utter pitch - white according to the action on screen . xxmaj as they xxunk xxunk the effects of real light xxunk throughout the frame , the xxunk of black and white here is full - blown without even any of the xxunk shades of gray to tone with the characters ' less xxunk definite moral codes , and the outcome is a harsh and xxunk vision of the direction in which commercial civilization is going , xxunk caused to xxunk the most xxunk and ruthless of xxunk . xxmaj it is the artistic study of film noir taken to their visual xxunk of its philosophy , and nothing before has ever shared quite the same execution of this visual concept . \n",
              " \n",
              "  xxmaj all the characters in this decent xxunk film seem as if to have been walk off with purely from a xxmaj gothic comic book in black xxunk , but all together their physical xxunk , their motions and the nuances of their facial expressions look xxunk within a clear humanity . xxmaj normally , films that try out new xxunk in animation allow their technical advances upstage all other xxunk of production . xxmaj sin xxmaj city , for example , left substance and overall good screen adaptation from its source material to be desired . \n",
              " \n",
              "  xxmaj it may not be mind - blowing , it may have its narrative conventions and its voice - over cast may simply be adequate , but xxmaj renaissance , made for $ xxunk million over six years , not only feels like actual noir instead of a xxunk penned xxunk , but also is not xxunk to all the visual innovation , which is played as if to be incidental . xxmaj one leaves thinking not so much about how cool it is when xxmaj xxunk is xxunk bullets shot through a xxunk glass xxmaj parisian street , but more about its xxunk of life and death , how life 's tragedies , such as death , make life meaningful .,xxbos xxmaj roy xxmaj rogers and company try to bring \" xxmaj xxunk \" back to life - it 's a ghost town which may go boom if silver mining is successful . xxmaj andy xxmaj xxunk ( as \" xxmaj xxunk \" ) xxunk around . xxmaj jane xxmaj xxunk ( as xxmaj carol ) loses a piece of her xxunk to xxmaj mr. xxmaj rogers ' sharp xxunk . xxmaj xxunk xxmaj willing and the xxmaj xxunk of the xxmaj purple xxmaj xxunk stand - in ( or , is that sing - in ? ) for the xxup xxunk xxmaj bob xxmaj nolan and the xxmaj sons of the xxmaj pioneers . xxmaj james xxmaj xxunk ( from the xxmaj laurel and xxmaj hardy films ) adds to the \" slapstick \" look of \" xxmaj grand xxmaj xxunk xxmaj trail \" . a loose floor board delivers the winning comedy performance . xxmaj mr. xxmaj xxunk 's xxunk kicks its heels . xxmaj there are xxunk human performances , too - but , the material is n't xxmaj grand . \n",
              " \n",
              "  * * xxmaj grand xxmaj xxunk xxmaj trail ( 1948 ) xxmaj william xxmaj xxunk ~ xxmaj roy xxmaj rogers , xxmaj jane xxmaj xxunk , xxmaj andy xxmaj xxunk,xxbos i tend to love everything the great late xxmaj paul xxmaj xxunk ( xxup xxunk ) ever was in . xxmaj while not all films starring xxmaj xxunk are great , they all have a specific charm that can be found nowhere but in xxmaj xxunk - flicks , and they are always entertaining . xxmaj there is no rule without exception , however , as \" xxmaj el xxmaj xxunk xxmaj del xxmaj xxunk \" aka . \" xxmaj the xxmaj devil 's xxmaj possessed \" ( 1974 ) proves . xxmaj while the film does have the specific xxmaj xxunk - flick - charm , it sadly drags far too much and gets really , really dull in - between . xxmaj xxunk stars as the evil xxmaj xxunk xxmaj xxunk xxmaj de xxmaj xxunk , who xxunk the people and uses black magic and bloody xxunk to stay in power . xxmaj when xxmaj xxunk de xxmaj xxunk ( xxmaj xxunk xxmaj xxunk ) , who fought side by side with xxmaj xxunk xxmaj de xxmaj xxunk against the xxmaj british , learns about the xxmaj xxunk 's evil behavior , he decides to turn against his former xxunk in arms and help the people free themselves from the xxunk xxmaj xxunk 's xxunk ... \n",
              " \n",
              "  xxmaj directed by xxmaj xxunk xxmaj xxunk , who is best known for directing xxmaj xxunk in \" xxmaj la xxmaj xxunk xxmaj de xxmaj xxunk \" ( \" xxmaj the xxmaj xxunk xxmaj vs . xxmaj the xxmaj vampire xxmaj woman \" , 1971 ) , the film was scripted by xxmaj xxunk himself . xxmaj xxunk often scripted his own films , and one must say that he mostly did a better , more original job than it is the case here . \" xxmaj el xxmaj xxunk xxmaj del xxmaj xxunk \" is mostly built up as a historical adventure rather than a xxmaj horror film , and it gets quite boring throughout the middle . xxmaj it often resembles the xxmaj sword and xxmaj xxunk films from the 50s , only that this film is set in xxunk times . xxmaj the xxmaj xxunk part was probably only added because the great xxmaj paul xxmaj xxunk 's name is linked to the xxmaj horror genre . xxmaj the film has its good parts : xxmaj paul xxmaj xxunk giving weird xxunk , xxmaj paul xxmaj xxunk looking weird , xxmaj paul xxmaj xxunk doing xxmaj xxunk stuff , xxmaj paul xxmaj xxunk xxunk innocent victims , etc . xxmaj but sadly , most of the film xxunk on the boring hero and the good guys , and these moments are boring . xxmaj the female cast members are nice to look at , but , unlike most xxmaj xxunk films , this one features no nudity and sleaze . xxmaj there is some gore , but it mostly looks clumsy and is n't as fun too look at as it is the case with most other xxmaj xxunk films . xxmaj overall , \" xxmaj el xxmaj xxunk xxmaj del xxmaj xxunk \" is only worth a look for my fellow xxmaj xxunk - xxunk . xxmaj there are dozens of films starring the xxmaj spanish xxmaj horror xxunk which should be seen before this one , such as \" xxmaj el xxmaj xxunk xxmaj de xxmaj la xxmaj morgue \" ( \" xxmaj the xxmaj xxunk of the xxmaj morgue \" , 1973 ) , \" xxmaj la xxmaj xxunk xxmaj de xxmaj los xxmaj muertos \" ( \" xxmaj the xxmaj hanging xxmaj woman \" , 1973 ) , \" xxmaj el xxmaj xxunk xxmaj xxunk xxmaj de xxmaj la xxmaj xxunk \" ( \" xxmaj horror xxmaj rises xxmaj from xxmaj the xxmaj xxunk \" , 1973 ) , \" xxmaj xxunk xxmaj de xxmaj xxunk \" ( \" xxmaj panic xxmaj beats \" , xxunk ) , \" xxmaj xxunk xxmaj xxunk \" ( 2004 ) , or any of the ' xxmaj xxunk xxmaj xxunk ' xxunk films . xxup xxunk xxmaj paul xxmaj xxunk . xxmaj legends never die !\n",
              "y: CategoryList\n",
              "positive,negative,positive,negative,negative\n",
              "Path: /root/.fastai/data/imdb_sample;\n",
              "\n",
              "Test: None"
            ]
          },
          "metadata": {
            "tags": []
          },
          "execution_count": 16
        }
      ]
    },
    {
      "cell_type": "code",
      "metadata": {
        "id": "7afWlAXiA2PO",
        "colab_type": "code",
        "colab": {}
      },
      "source": [
        "data = load_data(path)"
      ],
      "execution_count": 17,
      "outputs": []
    },
    {
      "cell_type": "code",
      "metadata": {
        "id": "I3B5YN01BB6K",
        "colab_type": "code",
        "colab": {
          "base_uri": "https://localhost:8080/",
          "height": 268
        },
        "outputId": "5f61fa7b-cbf1-421d-819a-e442bed19d5d"
      },
      "source": [
        "doc(load_data)"
      ],
      "execution_count": 18,
      "outputs": [
        {
          "output_type": "display_data",
          "data": {
            "text/html": [
              "<h4 id=\"load_data\" class=\"doc_header\"><code>load_data</code><a href=\"https://github.com/fastai/fastai/blob/master/fastai/basic_data.py#L275\" class=\"source_link\" style=\"float:right\">[source]</a><a class=\"source_link\" data-toggle=\"collapse\" data-target=\"#load_data-pytest\" style=\"float:right; padding-right:10px\">[test]</a></h4><blockquote><p><code>load_data</code>(<strong><code>path</code></strong>:<code>PathOrStr</code>, <strong><code>file</code></strong>:<code>PathLikeOrBinaryStream</code>=<strong><em><code>'data_save.pkl'</code></em></strong>, <strong><code>bs</code></strong>:<code>int</code>=<strong><em><code>64</code></em></strong>, <strong><code>val_bs</code></strong>:<code>int</code>=<strong><em><code>None</code></em></strong>, <strong><code>num_workers</code></strong>:<code>int</code>=<strong><em><code>2</code></em></strong>, <strong><code>dl_tfms</code></strong>:<code>Optional</code>[<code>Collection</code>[<code>Callable</code>]]=<strong><em><code>None</code></em></strong>, <strong><code>device</code></strong>:<a href=\"https://pytorch.org/docs/stable/tensor_attributes.html#torch-device\"><code>device</code></a>=<strong><em><code>None</code></em></strong>, <strong><code>collate_fn</code></strong>:<code>Callable</code>=<strong><em><code>'data_collate'</code></em></strong>, <strong><code>no_check</code></strong>:<code>bool</code>=<strong><em><code>False</code></em></strong>, <strong>**<code>kwargs</code></strong>) → <a href=\"https://docs.fast.ai/basic_data.html#DataBunch\"><code>DataBunch</code></a></p>\n",
              "</blockquote>\n",
              "<div class=\"collapse\" id=\"load_data-pytest\"><div class=\"card card-body pytest_card\"><a type=\"button\" data-toggle=\"collapse\" data-target=\"#load_data-pytest\" class=\"close\" aria-label=\"Close\"><span aria-hidden=\"true\">&times;</span></a><p>Tests found for <code>load_data</code>:</p><ul><li><code>pytest -sv tests/test_basic_data.py::test_DataBunch_save_load</code> <a href=\"https://github.com/fastai/fastai/blob/master/tests/test_basic_data.py#L85\" class=\"source_link\" style=\"float:right\">[source]</a></li><li><code>pytest -sv tests/test_text_data.py::test_load_and_save_test</code> <a href=\"https://github.com/fastai/fastai/blob/master/tests/test_text_data.py#L129\" class=\"source_link\" style=\"float:right\">[source]</a></li></ul><p>To run tests please refer to this <a href=\"/dev/test.html#quick-guide\">guide</a>.</p></div></div><p>Load a saved <a href=\"https://docs.fast.ai/basic_data.html#DataBunch\"><code>DataBunch</code></a> from <code>path/file</code>. <code>file</code> can be file-like (file or buffer)</p>\n",
              "<p><a href=\"https://docs.fast.ai/basic_data.html#load_data\" target=\"_blank\" rel=\"noreferrer noopener\">Show in docs</a></p>\n"
            ],
            "text/plain": [
              "<IPython.core.display.HTML object>"
            ]
          },
          "metadata": {
            "tags": []
          }
        }
      ]
    },
    {
      "cell_type": "markdown",
      "metadata": {
        "id": "dWrKXIYSBWmH",
        "colab_type": "text"
      },
      "source": [
        "**Tokenization**\n",
        "\n",
        "The first step of processing we make the texts go through is to split the raw sentences into words, or more exactly tokens. The easiest way to do this would be to split the string on spaces, but we can be smarter:\n",
        "*   we need to take care of punctuations \n",
        "*   some words are contractions of two words, like isn't or don't\n",
        "*   we may need to clean some parts of our texts, if there's HTML code for instance.\n",
        "\n",
        "\n",
        "\n",
        "\n"
      ]
    },
    {
      "cell_type": "code",
      "metadata": {
        "id": "4bfTeuwuBClL",
        "colab_type": "code",
        "colab": {
          "base_uri": "https://localhost:8080/",
          "height": 279
        },
        "outputId": "57ea473e-6a66-46f3-ad4d-b5195d2fbb9d"
      },
      "source": [
        "data = TextClasDataBunch.from_csv(path,'texts.csv')\n",
        "data.show_batch()"
      ],
      "execution_count": 19,
      "outputs": [
        {
          "output_type": "display_data",
          "data": {
            "text/html": [
              ""
            ],
            "text/plain": [
              "<IPython.core.display.HTML object>"
            ]
          },
          "metadata": {
            "tags": []
          }
        },
        {
          "output_type": "display_data",
          "data": {
            "text/html": [
              ""
            ],
            "text/plain": [
              "<IPython.core.display.HTML object>"
            ]
          },
          "metadata": {
            "tags": []
          }
        },
        {
          "output_type": "display_data",
          "data": {
            "text/html": [
              "<table border=\"1\" class=\"dataframe\">\n",
              "  <thead>\n",
              "    <tr style=\"text-align: right;\">\n",
              "      <th>text</th>\n",
              "      <th>target</th>\n",
              "    </tr>\n",
              "  </thead>\n",
              "  <tbody>\n",
              "    <tr>\n",
              "      <td>xxbos xxmaj raising xxmaj victor xxmaj vargas : a xxmaj review \\n \\n  xxmaj you know , xxmaj raising xxmaj victor xxmaj vargas is like sticking your hands into a big , steaming bowl of xxunk . xxmaj it 's warm and gooey , but you 're not sure if it feels right . xxmaj try as i might , no matter how warm and gooey xxmaj raising xxmaj</td>\n",
              "      <td>negative</td>\n",
              "    </tr>\n",
              "    <tr>\n",
              "      <td>xxbos xxup the xxup shop xxup around xxup the xxup corner is one of the xxunk and most feel - good romantic comedies ever made . xxmaj there 's just no getting around that , and it 's hard to actually put one 's feeling for this film into words . xxmaj it 's not one of those films that tries too hard , nor does it come up with</td>\n",
              "      <td>positive</td>\n",
              "    </tr>\n",
              "    <tr>\n",
              "      <td>xxbos xxmaj now that xxmaj che(2008 ) has finished its relatively short xxmaj australian cinema run ( extremely limited xxunk screen in xxmaj sydney , after xxunk ) , i can xxunk join both xxunk of \" xxmaj at xxmaj the xxmaj movies \" in taking xxmaj steven xxmaj soderbergh to task . \\n \\n  xxmaj it 's usually satisfying to watch a film director change his style /</td>\n",
              "      <td>negative</td>\n",
              "    </tr>\n",
              "    <tr>\n",
              "      <td>xxbos xxmaj this film sat on my xxmaj tivo for weeks before i watched it . i dreaded a self - indulgent xxunk flick about relationships gone bad . i was wrong ; this was an xxunk xxunk into the screwed - up xxunk of xxmaj new xxmaj yorkers . \\n \\n  xxmaj the format is the same as xxmaj max xxmaj xxunk ' \" xxmaj la xxmaj ronde</td>\n",
              "      <td>positive</td>\n",
              "    </tr>\n",
              "    <tr>\n",
              "      <td>xxbos i really wanted to love this show . i truly , honestly did . \\n \\n  xxmaj for the first time , gay viewers get their own version of the \" xxmaj the xxmaj bachelor \" . xxmaj with the help of his obligatory \" hag \" xxmaj xxunk , xxmaj james , a good looking , well - to - do thirty - something has the chance</td>\n",
              "      <td>negative</td>\n",
              "    </tr>\n",
              "  </tbody>\n",
              "</table>"
            ],
            "text/plain": [
              "<IPython.core.display.HTML object>"
            ]
          },
          "metadata": {
            "tags": []
          }
        }
      ]
    },
    {
      "cell_type": "markdown",
      "metadata": {
        "id": "YKcJwMFSEum2",
        "colab_type": "text"
      },
      "source": [
        "The texts are truncated at 100 tokens for more readability. We can see that it did more than just split on space and punctuations symbols:\n",
        "\n",
        "\n",
        "*   the \"s\" are grouped together in one token\n",
        "*   the contractions are separated like this: \"did\", \"n't\"\n",
        "*   content has been cleaned for any HTML symbol and lower cased\n",
        "*   there are several special tokens (all those that begin by xx), to replace unknown tokens\n",
        "\n",
        "**Numericalization**\n",
        "\n",
        "Once we have extracted tokens from our texts, we convert to integers by creating a list of all words used. We only keep the ones that appear at least twice with a maximum vocabulary size of 60,000 (by default) and replace the ones that don't make the cut by the unknown token UNK.\n",
        "\n",
        "\n",
        "\n"
      ]
    },
    {
      "cell_type": "code",
      "metadata": {
        "id": "5WzM6TtuCnmi",
        "colab_type": "code",
        "colab": {
          "base_uri": "https://localhost:8080/",
          "height": 185
        },
        "outputId": "ef713bd4-a10f-4be6-f3d0-0d1b039b11f5"
      },
      "source": [
        "data.vocab.itos[:10]"
      ],
      "execution_count": 20,
      "outputs": [
        {
          "output_type": "execute_result",
          "data": {
            "text/plain": [
              "['xxunk',\n",
              " 'xxpad',\n",
              " 'xxbos',\n",
              " 'xxeos',\n",
              " 'xxfld',\n",
              " 'xxmaj',\n",
              " 'xxup',\n",
              " 'xxrep',\n",
              " 'xxwrep',\n",
              " 'the']"
            ]
          },
          "metadata": {
            "tags": []
          },
          "execution_count": 20
        }
      ]
    },
    {
      "cell_type": "code",
      "metadata": {
        "id": "VWpqOfoTGexF",
        "colab_type": "code",
        "colab": {
          "base_uri": "https://localhost:8080/",
          "height": 34
        },
        "outputId": "1c3b1063-c7d4-44fe-a3b1-f7f224591552"
      },
      "source": [
        "data.train_ds[0][0]"
      ],
      "execution_count": 21,
      "outputs": [
        {
          "output_type": "execute_result",
          "data": {
            "text/plain": [
              "Text [   2    5    9 1375 ...   13  652   32   11]"
            ]
          },
          "metadata": {
            "tags": []
          },
          "execution_count": 21
        }
      ]
    },
    {
      "cell_type": "code",
      "metadata": {
        "id": "x4XSdMvZGnhc",
        "colab_type": "code",
        "colab": {
          "base_uri": "https://localhost:8080/",
          "height": 34
        },
        "outputId": "23805f04-b522-4d35-93e3-badd33551a4f"
      },
      "source": [
        "data.train_ds[0][0].data[:10]"
      ],
      "execution_count": 22,
      "outputs": [
        {
          "output_type": "execute_result",
          "data": {
            "text/plain": [
              "array([   2,    5,    9, 1375, 1466,   16,   29,  166,  104,   52])"
            ]
          },
          "metadata": {
            "tags": []
          },
          "execution_count": 22
        }
      ]
    },
    {
      "cell_type": "markdown",
      "metadata": {
        "id": "BtT70WGxHS9z",
        "colab_type": "text"
      },
      "source": [
        "**With the data block API**\n",
        "\n"
      ]
    },
    {
      "cell_type": "code",
      "metadata": {
        "id": "tDmU5Hr9HSi-",
        "colab_type": "code",
        "colab": {
          "base_uri": "https://localhost:8080/",
          "height": 17
        },
        "outputId": "15e6e5ff-f825-4323-e518-9cf922701ecf"
      },
      "source": [
        "data = (TextList.from_csv(path,'texts.csv',cols='text')\n",
        "                .split_from_df(col=2)\n",
        "                .label_from_df(cols=0)\n",
        "                .databunch())"
      ],
      "execution_count": 23,
      "outputs": [
        {
          "output_type": "display_data",
          "data": {
            "text/html": [
              ""
            ],
            "text/plain": [
              "<IPython.core.display.HTML object>"
            ]
          },
          "metadata": {
            "tags": []
          }
        },
        {
          "output_type": "display_data",
          "data": {
            "text/html": [
              ""
            ],
            "text/plain": [
              "<IPython.core.display.HTML object>"
            ]
          },
          "metadata": {
            "tags": []
          }
        }
      ]
    },
    {
      "cell_type": "code",
      "metadata": {
        "id": "5w9ptg_KG0Cf",
        "colab_type": "code",
        "colab": {
          "base_uri": "https://localhost:8080/",
          "height": 1000
        },
        "outputId": "5dd487be-f4e9-4657-e27a-2037163d18d6"
      },
      "source": [
        "data"
      ],
      "execution_count": 24,
      "outputs": [
        {
          "output_type": "execute_result",
          "data": {
            "text/plain": [
              "TextClasDataBunch;\n",
              "\n",
              "Train: LabelList (800 items)\n",
              "x: TextList\n",
              "xxbos xxmaj un - xxunk - believable ! xxmaj meg xxmaj ryan does n't even look her usual xxunk lovable self in this , which normally makes me forgive her shallow xxunk acting xxunk . xxmaj hard to believe she was the producer on this dog . xxmaj plus xxmaj kevin xxmaj kline : what kind of suicide trip has his career been on ? xxmaj xxunk ... xxmaj xxunk ! ! ! xxmaj finally this was directed by the guy who did xxmaj big xxmaj xxunk ? xxmaj must be a replay of xxmaj jonestown - hollywood style . xxmaj xxunk !,xxbos xxmaj this is a extremely well - made film . xxmaj the acting , script and camera - work are all first - rate . xxmaj the music is good , too , though it is mostly early in the film , when things are still relatively xxunk . xxmaj there are no really xxunk in the cast , though several faces will be familiar . xxmaj the entire cast does an excellent job with the script . \n",
              " \n",
              "  xxmaj but it is hard to watch , because there is no good end to a situation like the one presented . xxmaj it is now xxunk to blame the xxmaj british for setting xxmaj hindus and xxmaj muslims against each other , and then xxunk xxunk them into two countries . xxmaj there is some merit in this view , but it 's also true that no one forced xxmaj hindus and xxmaj muslims in the region to xxunk each other as they did around the time of partition . xxmaj it seems more likely that the xxmaj british simply saw the xxunk between the xxunk and were clever enough to exploit them to their own ends . \n",
              " \n",
              "  xxmaj the result is that there is much cruelty and inhumanity in the situation and this is very unpleasant to remember and to see on the screen . xxmaj but it is never painted as a black - and - white case . xxmaj there is xxunk and xxunk on both sides , and also the hope for change in the younger generation . \n",
              " \n",
              "  xxmaj there is redemption of a sort , in the end , when xxmaj xxunk has to make a hard choice between a man who has ruined her life , but also truly loved her , and her family which has xxunk her , then later come looking for her . xxmaj but by that point , she has no xxunk that is without great pain for her . \n",
              " \n",
              "  xxmaj this film carries the message that both xxmaj muslims and xxmaj hindus have their grave xxunk , and also that both can be xxunk and caring people . xxmaj the reality of partition makes that xxunk all the more wrenching , since there can never be real xxunk across the xxmaj india / xxmaj pakistan border . xxmaj in that sense , it is similar to \" xxmaj mr & xxmaj xxunk xxmaj xxunk \" . \n",
              " \n",
              "  xxmaj in the end , we were glad to have seen the film , even though the resolution was xxunk . xxmaj if the xxup uk and xxup us could deal with their own xxunk of racism with this kind of xxunk , they would certainly be better off .,xxbos xxmaj every once in a long while a movie will come along that will be so awful that i feel compelled to warn people . xxmaj if i labor all my days and i can save but one soul from watching this movie , how great will be my joy . \n",
              " \n",
              "  xxmaj where to begin my discussion of pain . xxmaj for xxunk , there was a musical xxunk every five minutes . xxmaj there was no character development . xxmaj every character was a stereotype . xxmaj we had xxunk guy , fat guy who eats donuts , goofy foreign guy , etc . xxmaj the script felt as if it were being written as the movie was being shot . xxmaj the production value was so incredibly low that it felt like i was watching a junior high video presentation . xxmaj have the directors , producers , etc . ever even seen a movie before ? xxmaj xxunk is getting worse and worse with every new entry . xxmaj the concept for this movie sounded so funny . xxmaj how could you go wrong with xxmaj gary xxmaj coleman and a handful of somewhat legitimate actors . xxmaj but trust me when i say this , things went wrong , xxup very xxup wrong .,xxbos xxmaj name just says it all . i watched this movie with my dad when it came out and having served in xxmaj xxunk he had great admiration for the man . xxmaj the disappointing thing about this film is that it only xxunk on a short period of the man 's life - interestingly enough the man 's entire life would have made such an epic bio - xxunk that it is staggering to imagine the cost for production . \n",
              " \n",
              "  xxmaj some posters xxunk to the flawed xxunk about the man , which are cheap shots . xxmaj the theme of the movie \" xxmaj duty , xxmaj honor , xxmaj country \" are not just mere words xxunk from the lips of a high - xxunk officer - it is the deep xxunk of one man 's total devotion to his country . \n",
              " \n",
              "  xxmaj ironically xxmaj xxunk being the liberal that he was xxunk a better understanding of the man . xxmaj he does a great job showing the xxunk general xxunk with the xxunk side of the man .,xxbos xxmaj this movie succeeds at being one of the most unique movies you 've seen . xxmaj however this comes from the fact that you ca n't make heads or xxunk of this mess . xxmaj it almost seems as a series of challenges set up to determine whether or not you are willing to walk out of the movie and give up the money you just paid . xxmaj if you do n't want to feel xxunk you 'll sit through this horrible film and develop a real sense of pity for the actors involved , they 've all seen better days , but then you realize they actually got paid quite a bit of money to do this and you 'll lose pity for them just like you 've already done for the film . i ca n't go on enough about this horrible movie , its almost something that xxmaj ed xxmaj wood would have made and in that case it surely would have been his masterpiece . \n",
              " \n",
              "  xxmaj to start you are forced to sit through an opening dialogue the likes of which you 've never seen / heard , this thing has got to be five minutes long . xxmaj on top of that it is narrated , as to suggest that you the viewer can not read . xxmaj then we meet xxmaj mr. xxmaj xxunk and the xxunk of terrible lines gets xxunk , it is as if he is xxunk solely to get lines on to the movie poster xxunk line . xxmaj soon we meet xxmaj stephen xxmaj xxunk , who i typically enjoy ) and he does his best not to drown in this but ultimately he does . xxmaj then comes the ultimate insult , xxmaj tara xxmaj xxunk playing an intelligent role , oh help us ! xxmaj tara xxmaj xxunk is not a very talented actress and somehow she xxunk gets roles in movies , in my opinion though she should stick to movies of the xxmaj american pie type . \n",
              " \n",
              "  xxmaj all in all you just may want to see this for yourself when it comes out on video , i know that i got a kick out of it , i mean lets all be honest here , sometimes its comforting to xxunk in the shortcomings of others .\n",
              "y: CategoryList\n",
              "negative,positive,negative,positive,negative\n",
              "Path: /root/.fastai/data/imdb_sample;\n",
              "\n",
              "Valid: LabelList (200 items)\n",
              "x: TextList\n",
              "xxbos xxmaj this very funny xxmaj british comedy shows what might happen if a section of xxmaj london , in this case xxmaj xxunk , were to xxunk itself independent from the rest of the xxup uk and its laws , xxunk & post - war xxunk . xxmaj merry xxunk is what would happen . \n",
              " \n",
              "  xxmaj the explosion of a wartime bomb leads to the xxunk of ancient xxunk which show that xxmaj xxunk was xxunk to the xxmaj xxunk of xxmaj xxunk xxunk ago , a small historical xxunk long since forgotten . xxmaj to the new xxmaj xxunk , however , this is an unexpected opportunity to live as they please , free from any xxunk from xxmaj xxunk . \n",
              " \n",
              "  xxmaj stanley xxmaj xxunk is excellent as the minor city xxunk who suddenly finds himself leading one of the world 's xxunk xxunk . xxmaj xxunk xxmaj margaret xxmaj xxunk is a delight as the history professor who sides with xxmaj xxunk . xxmaj others in the stand - out cast include xxmaj xxunk xxmaj xxunk , xxmaj paul xxmaj xxunk , xxmaj xxunk xxmaj xxunk , xxmaj xxunk xxmaj xxunk & xxmaj sir xxmaj michael xxmaj xxunk . \n",
              " \n",
              "  xxmaj welcome to xxmaj xxunk !,xxbos i saw this movie once as a kid on the late - late show and fell in love with it . \n",
              " \n",
              "  xxmaj it took 30 + years , but i recently did find it on xxup dvd - it was n't cheap , either - in a xxunk that xxunk in war movies . xxmaj we watched it last night for the first time . xxmaj the audio was good , however it was grainy and had the trailers between xxunk . xxmaj even so , it was better than i remembered it . i was also impressed at how true it was to the play . \n",
              " \n",
              "  xxmaj the xxunk is around here xxunk . xxmaj if you 're xxunk in finding it , fire me a xxunk and i 'll see if i can get you the xxunk . xxunk,xxbos xxmaj this is , in my opinion , a very good film , especially for xxmaj michael xxmaj jackson lovers . xxmaj it contains a message on drugs , stunning special effects , and an awesome music video . \n",
              " \n",
              "  xxmaj the main film is xxunk around the song and music video ' xxmaj smooth xxmaj criminal . ' xxmaj unlike the four - minute music video , it is normal speed and , in my opinion , much xxunk to watch . \n",
              " \n",
              "  xxmaj the plot is rather weird , however . xxmaj michael xxmaj jackson plays a xxunk ' gangster ' that , when he sees a shooting star , he xxunk into a piece of xxunk . xxmaj throughout the film , he xxunk into a race car , a giant robot , and a space ship . \n",
              " \n",
              "  xxmaj the robot scene in particular is a bit drawn out and strange . i found it a little out - of - whack compared to the rest of the film . \n",
              " \n",
              "  a child is kidnapped , xxmaj michael tries to save her , is tortured and beaten , and suddenly turns into a giant robot that blows up all the bad guys . a little weird ? xxmaj yeah . \n",
              " \n",
              "  xxmaj but besides the bizarre robot scene , it 's a very good movie , and any xxmaj michael xxmaj jackson fan will enjoy both the xxmaj smooth xxmaj criminal music video and the movie .,xxbos xxmaj in xxmaj iran , women are not xxunk to attend men 's sporting events , apparently to \" xxunk \" them from all the xxunk and foul language they might hear xxunk from the male fans ( so since men ca n't xxunk or xxunk themselves , women are forced to suffer . xxmaj go figure . ) . \" xxmaj xxunk \" tells the tale of a half dozen or so young women who , dressed like men , attempt to xxunk into the high - xxunk match between xxmaj iran and xxmaj xxunk that , in xxunk , qualified xxmaj iran to go to the xxmaj world xxmaj cup ( the movie was actually filmed in large part during that game ) . \n",
              " \n",
              "  \" xxmaj xxunk \" is a xxunk - of - life comedy that will remind you of all those great xxunk films ( \" xxmaj the xxmaj shop on xxmaj main xxmaj street , \" \" xxmaj loves of a xxmaj blonde , \" \" xxmaj closely xxmaj watched xxmaj trains \" etc . ) that xxunk out of xxmaj communist xxmaj xxunk as part of the \" xxmaj xxunk xxmaj xxunk \" in the mid xxunk 's . xxmaj as with many of those works , \" xxmaj xxunk \" is more concerned with xxunk life than with xxunk any kind of xxunk contrived fictional narrative . xxmaj indeed , it is the simplicity of the xxunk and the xxunk of the style that make the movie so effective . \n",
              " \n",
              "  xxmaj once their xxunk is discovered , the girls are xxunk into a small xxunk right outside the xxunk where they can hear the xxunk xxunk xxunk from the game inside . xxmaj stuck where they are , all they can do is xxunk with the security guards to let them go in , guards who are basically xxunk , good - xxunk xxunk who are compelled to do their duty as a part of their xxunk military service . xxmaj even most of the men going into the xxunk do n't seem particularly xxunk at the thought of these women being allowed in . xxmaj still the prohibition xxunk . xxmaj yet , how can one not be impressed by the very real courage and xxunk displayed by these women as they go up against a system that continues to xxunk such a xxunk xxunk and xxunk xxunk ? xxmaj and , yet , the purpose of these women is not to xxunk behind a cause or to make a \" point . \" xxmaj they are simply obsessed fans with a burning desire to watch a soccer game and , like all the men in the country , xxunk on their team . \n",
              " \n",
              "  xxmaj it 's hard to tell just how much of the dialogue is scripted and how much of it is xxunk , but , in either case , the actors , with their xxunk xxunk faces , do a magnificent job making each moment seem utterly real and convincing . xxmaj xxunk xxmaj xxunk - xxunk and xxmaj xxunk xxmaj xxunk are notable xxunk in a xxunk excellent cast . xxmaj the structure of the film is also very loose and xxunk , as writer / director xxmaj xxunk xxmaj xxunk and co - writer xxmaj xxunk xxmaj xxunk focus for a few brief moments on one or two of the characters , then move xxunk and xxunk onto others . xxmaj with this documentary - type approach , we come to feel as if we are xxunk an actual event xxunk in \" real time . \" xxmaj very often , it 's quite easy for us to forget we 're actually watching a movie . \n",
              " \n",
              "  xxmaj it was a very smart move on the part of the filmmakers to include so much good - xxunk humor in the film ( it 's what the xxmaj xxunk filmmakers did as well ) , the better to point up the utter absurdity of the situation and xxunk the appeal of the film for audiences both domestic and foreign . \" xxmaj xxunk \" is obviously a cry for justice , but it is one that is made all the more effective by its xxunk to make of its story a heavy - breathing tragedy . xxmaj instead , it realizes that nothing breaks down social xxunk quite as xxunk as humor and an appeal to the audience 's common humanity . xxmaj and is n't that what true art is supposed to be all about ? xxmaj in its own quiet , xxunk way , \" xxmaj xxunk \" is one of the great , under - appreciated xxunk of xxunk .,xxbos \" xxmaj in xxmaj xxunk xxunk , the xxmaj university of xxmaj xxunk xxunk to xxunk xxmaj xxunk xxmaj national xxmaj xxunk , with an xxunk of xxmaj xxunk xxunk offering to xxunk the research . xxmaj xxunk xxunk became the first \" national \" xxunk . xxmaj it did not , however , remain at its original location in the xxmaj xxunk forest . xxmaj in xxunk , it moved xxunk west from the \" xxmaj xxunk xxmaj city \" to a new site on xxmaj xxunk xxunk . xxmaj when xxmaj xxunk xxmaj xxunk visited xxmaj xxunk 's director , xxmaj walter xxmaj xxunk , in xxunk , he asked him what kind of xxunk was to be built at the new site . xxmaj when xxmaj xxunk described a heavy - water xxunk xxunk at one - xxunk the power of the xxmaj xxunk xxmaj xxunk xxmaj xxunk under design at xxmaj xxunk xxmaj xxunk , xxmaj xxunk xxunk it would be xxunk if xxmaj xxunk took the xxmaj xxunk xxmaj xxunk design and xxunk the xxmaj xxunk xxmaj xxunk xxmaj xxunk at one - xxunk capacity . xxmaj the joke proved unintentionally xxunk . \" \n",
              " \n",
              "  xxmaj the xxup xxunk plant used xxunk to separate the xxunk in thousands of tall xxunk . xxmaj it was built next to the xxup xxunk power plant , which provided the necessary steam . xxmaj much less xxunk than xxup xxunk , the xxup xxunk plant was torn down after the war . \n",
              " \n",
              "  xxmaj concerned that the xxmaj xxunk xxmaj energy xxmaj xxunk research program might become too xxunk , xxmaj xxunk xxunk a xxunk of industrial xxunk , and during a xxmaj xxunk visit to xxmaj xxunk xxmaj xxunk , he xxunk with xxmaj clark xxmaj center , manager of xxmaj xxunk & xxmaj xxunk , a xxunk of xxmaj union xxmaj xxunk xxmaj corporation at xxmaj xxunk xxmaj xxunk , the possibility of the company xxunk xxunk of the xxmaj xxunk . \n",
              " \n",
              "  xxmaj prince xxmaj henry ( of xxmaj xxunk ) xxmaj xxunk in xxmaj washington and xxmaj visiting the xxmaj german xxmaj xxunk ( xxunk ) . xxmaj xxunk , with xxmaj prince xxmaj henry of xxmaj xxunk according to the xxunk of science and its xxunk their were already concerns with the xxunk of new science with military xxunk . xxmaj the xxmaj xxunk ( xxunk / xxup ii ) , \" xxmaj xxunk xxmaj xxunk 's splendid xxunk at the xxunk xxmaj st. xxmaj xxunk , xxmaj new xxmaj york . xxmaj taken at the exact moment of xxmaj prince xxmaj henry 's xxunk , and the raising of the xxunk standard . \" xxmaj if xxmaj xxunk knew of these necessary xxunk to xxunk xxunk then what was the xxunk of the xxunk xxup xxunk and xxup wwii . xxmaj the quality of xxunk control i xxunk ? \n",
              " \n",
              "  xxmaj thus , did the xxunk of xxmaj xxunk xxmaj xxunk xxunk for a military mission , or a business plan , based on the security xxunk of xxmaj xxunk xxunk ? xxmaj because supposedly their were no survivors , and the ones who were caught in xxmaj europe ordered to be executed . xxmaj of the xxunk man commando team the survivors who were captured were executed under orders of the xxmaj german xxmaj army against xxunk , and xxunk acts of the xxmaj state of xxmaj germany . \n",
              " \n",
              "  xxmaj the xxmaj xxunk xxmaj no . xxunk / xxunk xxunk xxmaj xxunk . xxup xxunk / xxunk , xxmaj xxunk xxup xxunk , 18 xxmaj xxunk xxunk , ( xxunk ) xxmaj xxunk xxmaj hitler ; xxmaj translation of xxmaj document no . xxup xxunk , xxmaj office of xxup u.s. xxmaj chief of xxmaj xxunk , xxunk true copy xxmaj xxunk xxmaj major , xxunk xxup xxunk xxunk xxmaj march xxunk , xxunk , xxunk at the xxup u.s. xxmaj national xxmaj xxunk . \n",
              " \n",
              "  xxmaj the xxup xxunk xxmaj society xxunk xxunk xxmaj xxunk xxmaj xxunk . , xxunk xxunk , xxup xxunk xxunk\n",
              "y: CategoryList\n",
              "positive,positive,positive,positive,positive\n",
              "Path: /root/.fastai/data/imdb_sample;\n",
              "\n",
              "Test: None"
            ]
          },
          "metadata": {
            "tags": []
          },
          "execution_count": 24
        }
      ]
    },
    {
      "cell_type": "markdown",
      "metadata": {
        "id": "98x_3URoH4ML",
        "colab_type": "text"
      },
      "source": [
        "**Language Model**"
      ]
    },
    {
      "cell_type": "code",
      "metadata": {
        "id": "2yivPta6H1_H",
        "colab_type": "code",
        "colab": {}
      },
      "source": [
        "bs = 48"
      ],
      "execution_count": 25,
      "outputs": []
    },
    {
      "cell_type": "code",
      "metadata": {
        "id": "WlKC7DrWH9H1",
        "colab_type": "code",
        "colab": {
          "base_uri": "https://localhost:8080/",
          "height": 34
        },
        "outputId": "b21e04d3-96d4-445a-ed6c-77a1f6bf5f32"
      },
      "source": [
        "path  = untar_data(URLs.IMDB)\n",
        "path.ls()"
      ],
      "execution_count": 26,
      "outputs": [
        {
          "output_type": "stream",
          "text": [
            "Downloading https://s3.amazonaws.com/fast-ai-nlp/imdb.tgz\n"
          ],
          "name": "stdout"
        },
        {
          "output_type": "display_data",
          "data": {
            "text/html": [
              ""
            ],
            "text/plain": [
              "<IPython.core.display.HTML object>"
            ]
          },
          "metadata": {
            "tags": []
          }
        }
      ]
    },
    {
      "cell_type": "code",
      "metadata": {
        "id": "CtS3kXHHIB_d",
        "colab_type": "code",
        "colab": {
          "base_uri": "https://localhost:8080/",
          "height": 84
        },
        "outputId": "fbf3e2c3-bb12-4359-97fc-f1f6f0cae0a9"
      },
      "source": [
        "(path/'train').ls()"
      ],
      "execution_count": 27,
      "outputs": [
        {
          "output_type": "execute_result",
          "data": {
            "text/plain": [
              "[PosixPath('/root/.fastai/data/imdb/train/pos'),\n",
              " PosixPath('/root/.fastai/data/imdb/train/unsupBow.feat'),\n",
              " PosixPath('/root/.fastai/data/imdb/train/labeledBow.feat'),\n",
              " PosixPath('/root/.fastai/data/imdb/train/neg')]"
            ]
          },
          "metadata": {
            "tags": []
          },
          "execution_count": 27
        }
      ]
    },
    {
      "cell_type": "code",
      "metadata": {
        "id": "Q0DLTphcIJ6d",
        "colab_type": "code",
        "colab": {
          "base_uri": "https://localhost:8080/",
          "height": 17
        },
        "outputId": "a0e66d10-969a-4a6a-fc88-aa7509beadb9"
      },
      "source": [
        "data_lm = (TextList.from_folder(path)\n",
        "                    .filter_by_folder(include=['train','test','unsup'])\n",
        "                    .split_by_rand_pct(0.1)\n",
        "                    .label_for_lm()\n",
        "                    .databunch(bs=bs))\n",
        "data_lm.save('data_lm.pkl')"
      ],
      "execution_count": 28,
      "outputs": [
        {
          "output_type": "display_data",
          "data": {
            "text/html": [
              ""
            ],
            "text/plain": [
              "<IPython.core.display.HTML object>"
            ]
          },
          "metadata": {
            "tags": []
          }
        },
        {
          "output_type": "display_data",
          "data": {
            "text/html": [
              ""
            ],
            "text/plain": [
              "<IPython.core.display.HTML object>"
            ]
          },
          "metadata": {
            "tags": []
          }
        }
      ]
    },
    {
      "cell_type": "code",
      "metadata": {
        "id": "ry97rct4Jqbj",
        "colab_type": "code",
        "colab": {
          "base_uri": "https://localhost:8080/",
          "height": 279
        },
        "outputId": "2216fe64-7c6e-43e8-b512-8517e63c1fda"
      },
      "source": [
        "data_lm.show_batch()"
      ],
      "execution_count": 29,
      "outputs": [
        {
          "output_type": "display_data",
          "data": {
            "text/html": [
              "<table border=\"1\" class=\"dataframe\">\n",
              "  <thead>\n",
              "    <tr style=\"text-align: right;\">\n",
              "      <th>idx</th>\n",
              "      <th>text</th>\n",
              "    </tr>\n",
              "  </thead>\n",
              "  <tbody>\n",
              "    <tr>\n",
              "      <td>0</td>\n",
              "      <td>on the fact that he was gay , unable to face up to the fact that it was her rejection of him that helped him along . xxmaj her second husband ( xxmaj steven xxmaj lang ) , not the boy 's father , is a little more lenient in his views , and this causes conflict . xxmaj when it 's obvious that two of the men at xxmaj</td>\n",
              "    </tr>\n",
              "    <tr>\n",
              "      <td>1</td>\n",
              "      <td>myself , these reference points always prove interesting ( and ' xxmaj baseball xxmaj bugs ' includes my favourite regularly used saying , \" xxmaj was this trip really necessary ? \" , which always cracks me up ) but to most people they will prove perplexing and the fact that the cartoon ends with one of these forgotten catchphrases makes for a somewhat anticlimactic finale . xxmaj nevertheless ,</td>\n",
              "    </tr>\n",
              "    <tr>\n",
              "      <td>2</td>\n",
              "      <td>are both films xxmaj yuzna produced but not directed himself . xxbos i love movies ... a lot . i 've seen thousands of movies ( that 's not an exaggeration ) and i 've tried to see all the \" important \" films critics rave about . xxmaj some of them xxup have been great but others like \" xxmaj wild xxmaj strawberries \" and this are just meandering</td>\n",
              "    </tr>\n",
              "    <tr>\n",
              "      <td>3</td>\n",
              "      <td>the best films made in the 1980 's . xxmaj the film is astounding . xxmaj it is in fact very depressing , but shows the cruel and unusual ways of the xxmaj san xxmaj salvadorian government in the 1970 's . xxmaj the film is violent and sometimes disturbing . i showed this film to my freshman classes at school , and they were somewhat disturbed . xxmaj the</td>\n",
              "    </tr>\n",
              "    <tr>\n",
              "      <td>4</td>\n",
              "      <td>out of 10 is clearly undeserved praise and might ( horror of horrors ) encourage this egregious blight on cinema to direct another movie . - i ( as i 'm sure most other people will ) shudder at the thought . \\n \\n  xxmaj somehow , i imagine this breathtakingly inadequate director could even mess up sweeping the streets , so i wo n't suggest she takes this</td>\n",
              "    </tr>\n",
              "  </tbody>\n",
              "</table>"
            ],
            "text/plain": [
              "<IPython.core.display.HTML object>"
            ]
          },
          "metadata": {
            "tags": []
          }
        }
      ]
    },
    {
      "cell_type": "code",
      "metadata": {
        "id": "gbV4VSOhJ4be",
        "colab_type": "code",
        "colab": {
          "base_uri": "https://localhost:8080/",
          "height": 34
        },
        "outputId": "8fa520a5-4839-4c14-91ed-c53f7ce30fd9"
      },
      "source": [
        "learn = language_model_learner(data_lm,AWD_LSTM,drop_mult=0.3)"
      ],
      "execution_count": 30,
      "outputs": [
        {
          "output_type": "stream",
          "text": [
            "Downloading https://s3.amazonaws.com/fast-ai-modelzoo/wt103-fwd.tgz\n"
          ],
          "name": "stdout"
        },
        {
          "output_type": "display_data",
          "data": {
            "text/html": [
              ""
            ],
            "text/plain": [
              "<IPython.core.display.HTML object>"
            ]
          },
          "metadata": {
            "tags": []
          }
        }
      ]
    },
    {
      "cell_type": "code",
      "metadata": {
        "id": "lFwwaqq0KdgZ",
        "colab_type": "code",
        "colab": {
          "base_uri": "https://localhost:8080/",
          "height": 110
        },
        "outputId": "a25c648f-774c-48b2-bf6b-5dde490c5eef"
      },
      "source": [
        "learn.lr_find()"
      ],
      "execution_count": 32,
      "outputs": [
        {
          "output_type": "display_data",
          "data": {
            "text/html": [
              "\n",
              "    <div>\n",
              "        <style>\n",
              "            /* Turns off some styling */\n",
              "            progress {\n",
              "                /* gets rid of default border in Firefox and Opera. */\n",
              "                border: none;\n",
              "                /* Needs to be in here for Safari polyfill so background images work as expected. */\n",
              "                background-size: auto;\n",
              "            }\n",
              "            .progress-bar-interrupted, .progress-bar-interrupted::-webkit-progress-bar {\n",
              "                background: #F44336;\n",
              "            }\n",
              "        </style>\n",
              "      <progress value='0' class='' max='1' style='width:300px; height:20px; vertical-align: middle;'></progress>\n",
              "      0.00% [0/1 00:00<00:00]\n",
              "    </div>\n",
              "    \n",
              "<table border=\"1\" class=\"dataframe\">\n",
              "  <thead>\n",
              "    <tr style=\"text-align: left;\">\n",
              "      <th>epoch</th>\n",
              "      <th>train_loss</th>\n",
              "      <th>valid_loss</th>\n",
              "      <th>accuracy</th>\n",
              "      <th>time</th>\n",
              "    </tr>\n",
              "  </thead>\n",
              "  <tbody>\n",
              "  </tbody>\n",
              "</table><p>\n",
              "\n",
              "    <div>\n",
              "        <style>\n",
              "            /* Turns off some styling */\n",
              "            progress {\n",
              "                /* gets rid of default border in Firefox and Opera. */\n",
              "                border: none;\n",
              "                /* Needs to be in here for Safari polyfill so background images work as expected. */\n",
              "                background-size: auto;\n",
              "            }\n",
              "            .progress-bar-interrupted, .progress-bar-interrupted::-webkit-progress-bar {\n",
              "                background: #F44336;\n",
              "            }\n",
              "        </style>\n",
              "      <progress value='99' class='' max='8059' style='width:300px; height:20px; vertical-align: middle;'></progress>\n",
              "      1.23% [99/8059 00:34<46:18 11.6769]\n",
              "    </div>\n",
              "    "
            ],
            "text/plain": [
              "<IPython.core.display.HTML object>"
            ]
          },
          "metadata": {
            "tags": []
          }
        },
        {
          "output_type": "stream",
          "text": [
            "LR Finder is complete, type {learner_name}.recorder.plot() to see the graph.\n"
          ],
          "name": "stdout"
        }
      ]
    },
    {
      "cell_type": "code",
      "metadata": {
        "id": "CbAQa8FuLnQP",
        "colab_type": "code",
        "colab": {
          "base_uri": "https://localhost:8080/",
          "height": 279
        },
        "outputId": "1c6e0cf5-15ce-4c89-ec01-1147b0f89687"
      },
      "source": [
        "learn.recorder.plot(skip_end=15)"
      ],
      "execution_count": 33,
      "outputs": [
        {
          "output_type": "display_data",
          "data": {
            "image/png": "[encoded data removed]",
            "text/plain": [
              "<Figure size 432x288 with 1 Axes>"
            ]
          },
          "metadata": {
            "tags": [],
            "needs_background": "light"
          }
        }
      ]
    },
    {
      "cell_type": "code",
      "metadata": {
        "id": "7AxPdKEJLqmK",
        "colab_type": "code",
        "colab": {
          "base_uri": "https://localhost:8080/",
          "height": 94
        },
        "outputId": "7d65bf3b-bd1b-46e8-98ac-9b6a3949a3c5"
      },
      "source": [
        "learn.fit_one_cycle(1,1e-2,moms=(0.8,0.7))"
      ],
      "execution_count": null,
      "outputs": [
        {
          "output_type": "display_data",
          "data": {
            "text/html": [
              "\n",
              "    <div>\n",
              "        <style>\n",
              "            /* Turns off some styling */\n",
              "            progress {\n",
              "                /* gets rid of default border in Firefox and Opera. */\n",
              "                border: none;\n",
              "                /* Needs to be in here for Safari polyfill so background images work as expected. */\n",
              "                background-size: auto;\n",
              "            }\n",
              "            .progress-bar-interrupted, .progress-bar-interrupted::-webkit-progress-bar {\n",
              "                background: #F44336;\n",
              "            }\n",
              "        </style>\n",
              "      <progress value='0' class='' max='1' style='width:300px; height:20px; vertical-align: middle;'></progress>\n",
              "      0.00% [0/1 00:00<00:00]\n",
              "    </div>\n",
              "    \n",
              "<table border=\"1\" class=\"dataframe\">\n",
              "  <thead>\n",
              "    <tr style=\"text-align: left;\">\n",
              "      <th>epoch</th>\n",
              "      <th>train_loss</th>\n",
              "      <th>valid_loss</th>\n",
              "      <th>accuracy</th>\n",
              "      <th>time</th>\n",
              "    </tr>\n",
              "  </thead>\n",
              "  <tbody>\n",
              "  </tbody>\n",
              "</table><p>\n",
              "\n",
              "    <div>\n",
              "        <style>\n",
              "            /* Turns off some styling */\n",
              "            progress {\n",
              "                /* gets rid of default border in Firefox and Opera. */\n",
              "                border: none;\n",
              "                /* Needs to be in here for Safari polyfill so background images work as expected. */\n",
              "                background-size: auto;\n",
              "            }\n",
              "            .progress-bar-interrupted, .progress-bar-interrupted::-webkit-progress-bar {\n",
              "                background: #F44336;\n",
              "            }\n",
              "        </style>\n",
              "      <progress value='1914' class='' max='8059' style='width:300px; height:20px; vertical-align: middle;'></progress>\n",
              "      23.75% [1914/8059 11:10<35:51 4.2830]\n",
              "    </div>\n",
              "    "
            ],
            "text/plain": [
              "<IPython.core.display.HTML object>"
            ]
          },
          "metadata": {
            "tags": []
          }
        }
      ]
    },
    {
      "cell_type": "code",
      "metadata": {
        "id": "M_Tv-jU6L39u",
        "colab_type": "code",
        "colab": {}
      },
      "source": [
        "#learn.save('fit_head')"
      ],
      "execution_count": null,
      "outputs": []
    },
    {
      "cell_type": "code",
      "metadata": {
        "id": "u8e8DTAwL6Ru",
        "colab_type": "code",
        "colab": {}
      },
      "source": [
        "#learn.load('fit_head')"
      ],
      "execution_count": null,
      "outputs": []
    },
    {
      "cell_type": "code",
      "metadata": {
        "id": "Ijj1qABGMAe3",
        "colab_type": "code",
        "colab": {}
      },
      "source": [
        "#learn.unfreeze()"
      ],
      "execution_count": null,
      "outputs": []
    },
    {
      "cell_type": "code",
      "metadata": {
        "id": "5YCyquSLMCSG",
        "colab_type": "code",
        "colab": {}
      },
      "source": [
        "#learn.fit_one_cycle(10,1e-3,moms=(0.8,0.7))"
      ],
      "execution_count": null,
      "outputs": []
    },
    {
      "cell_type": "code",
      "metadata": {
        "id": "Hah7vavAMObX",
        "colab_type": "code",
        "colab": {}
      },
      "source": [
        ""
      ],
      "execution_count": null,
      "outputs": []
    }
  ]
}